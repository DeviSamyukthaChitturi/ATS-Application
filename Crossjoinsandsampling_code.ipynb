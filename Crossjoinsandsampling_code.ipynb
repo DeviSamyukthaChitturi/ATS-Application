{
 "cells": [
  {
   "cell_type": "code",
   "execution_count": null,
   "id": "441aaf23-e15d-4525-b20e-94a07ef86fe3",
   "metadata": {},
   "outputs": [],
   "source": [
    "pip install pandas"
   ]
  },
  {
   "cell_type": "code",
   "execution_count": null,
   "id": "c03b0f18-47b4-45e9-96e2-89ef2eb350e3",
   "metadata": {},
   "outputs": [],
   "source": [
    "import pandas as pd\n",
    "\n",
    "def combine_datasets(job_desc_file, resumes_file, output_file):\n",
    "    # Read the job descriptions and resumes CSV files\n",
    "    job_desc_df = pd.read_csv(job_desc_file)\n",
    "    resumes_df = pd.read_csv(resumes_file)\n",
    "\n",
    "    # Perform a Cartesian product\n",
    "    combined_df = job_desc_df.assign(key=1).merge(resumes_df.assign(key=1), on='key').drop('key', axis=1)\n",
    "\n",
    "    # Debug: Print shape of combined DataFrame\n",
    "    print(\"Shape of combined DataFrame:\", combined_df.shape)  # Check the number of rows and columns\n",
    "\n",
    "    # Adjust column names based on the number of resumes\n",
    "    num_resumes = len(resumes_df.columns)\n",
    "    num_jobs = len(job_desc_df.columns)\n",
    "\n",
    "    # Create new column names\n",
    "    combined_df.columns = ['Job Description'] * num_jobs + [f'Resume {i+1}' for i in range(num_resumes)]\n",
    "\n",
    "    # Write the combined DataFrame to a new CSV file\n",
    "    combined_df.to_csv(output_file, index=False)\n",
    "\n",
    "# Usage example\n",
    "job_desc_file = r'C:\\Users\\sanga\\OneDrive\\Documents\\CAP NEW\\jd.csv'  # Correct path to your job description CSV file\n",
    "resumes_file = r'C:\\Users\\sanga\\OneDrive\\Documents\\CAP NEW\\UpdatedResumeDataSet.csv'  # Correct path to your resumes CSV file\n",
    "output_file = r'C:\\Users\\sanga\\OneDrive\\Documents\\CAP NEW\\combined_file.csv'  # Output file path\n",
    "\n",
    "combine_datasets(job_desc_file, resumes_file, output_file)\n"
   ]
  },
  {
   "cell_type": "code",
   "execution_count": null,
   "id": "50406b59-7bc8-4bd9-ae93-6ef401e2a68e",
   "metadata": {},
   "outputs": [],
   "source": [
    "import pandas as pd\n",
    "\n",
    "def sample_from_csv(input_file, sample_output_file, sample_size=5628):\n",
    "    # Read the CSV file\n",
    "    df = pd.read_csv(input_file)\n",
    "\n",
    "    # Check the number of records in the DataFrame\n",
    "    total_records = len(df)\n",
    "    print(f\"Total records in the dataset: {total_records}\")\n",
    "\n",
    "    # Sample the records\n",
    "    if total_records < sample_size:\n",
    "        print(f\"Warning: The dataset has only {total_records} records. Sampling all available records.\")\n",
    "        sampled_df = df\n",
    "    else:\n",
    "        sampled_df = df.sample(n=sample_size, random_state=1)  # random_state for reproducibility\n",
    "\n",
    "    # Save the sampled DataFrame to a new CSV file\n",
    "    sampled_df.to_csv(sample_output_file, index=False, header=True)\n",
    "    print(f\"Sampled data saved to: {sample_output_file}\")\n",
    "\n",
    "# Usage example\n",
    "input_file = r'C:\\Users\\sanga\\OneDrive\\Documents\\CAP NEW\\combined_file.csv'  # Replace with your CSV file path\n",
    "sample_output_file = r'C:\\Users\\sanga\\OneDrive\\Documents\\CAP NEW\\sample_file.csv'  # Replace with desired output path\n",
    "\n",
    "sample_from_csv(input_file, sample_output_file)\n"
   ]
  },
  {
   "cell_type": "code",
   "execution_count": null,
   "id": "235515b5-59dd-41ec-923c-2fd1db6868ef",
   "metadata": {},
   "outputs": [],
   "source": []
  }
 ],
 "metadata": {
  "kernelspec": {
   "display_name": "Python 3 (ipykernel)",
   "language": "python",
   "name": "python3"
  },
  "language_info": {
   "codemirror_mode": {
    "name": "ipython",
    "version": 3
   },
   "file_extension": ".py",
   "mimetype": "text/x-python",
   "name": "python",
   "nbconvert_exporter": "python",
   "pygments_lexer": "ipython3",
   "version": "3.12.6"
  }
 },
 "nbformat": 4,
 "nbformat_minor": 5
}
